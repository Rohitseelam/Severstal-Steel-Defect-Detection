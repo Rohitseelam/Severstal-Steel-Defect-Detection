{
 "cells": [
  {
   "cell_type": "markdown",
   "metadata": {
    "id": "ISsPuT-QgRpQ"
   },
   "source": [
    "# DATA PIPELINE TO PREDICT OUTPUT FOR AN IMAGE OR SET OF IMAGES:"
   ]
  },
  {
   "cell_type": "code",
   "execution_count": 1,
   "metadata": {
    "colab": {
     "base_uri": "https://localhost:8080/"
    },
    "id": "Qxx6bsKIgmMd",
    "outputId": "e79ac5ba-6ae7-450f-99c0-d6de53d30dac"
   },
   "outputs": [
    {
     "name": "stdout",
     "output_type": "stream",
     "text": [
      "Mounted at /content/drive\n"
     ]
    }
   ],
   "source": [
    "from google.colab import drive\n",
    "drive.mount('/content/drive')"
   ]
  },
  {
   "cell_type": "code",
   "execution_count": 1,
   "metadata": {
    "colab": {
     "base_uri": "https://localhost:8080/"
    },
    "id": "KZMxsFTIgRpY",
    "outputId": "1156edf4-5512-49fa-dcca-de786d244080"
   },
   "outputs": [
    {
     "name": "stderr",
     "output_type": "stream",
     "text": [
      "Using TensorFlow backend.\n"
     ]
    }
   ],
   "source": [
    "import pandas as pd\n",
    "import os\n",
    "import numpy as np\n",
    "from PIL import Image\n",
    "import matplotlib.pyplot as plt\n",
    "import tensorflow as tf\n",
    "from tensorflow.keras.models import load_model\n",
    "import cv2\n",
    "import keras"
   ]
  },
  {
   "cell_type": "code",
   "execution_count": 18,
   "metadata": {
    "id": "SfIvAYNqhXR2"
   },
   "outputs": [],
   "source": [
    "# !pip install git+https://github.com/qubvel/segmentation_models\n",
    "# !pip install keras==2.3.1\n",
    "# from efficientnet.tfkeras import EfficientNetB4"
   ]
  },
  {
   "cell_type": "code",
   "execution_count": 2,
   "metadata": {
    "colab": {
     "base_uri": "https://localhost:8080/"
    },
    "id": "ZVZHH-KnhZFd",
    "outputId": "f135a9b2-bfde-478b-dcdc-4154c21a7817"
   },
   "outputs": [
    {
     "name": "stdout",
     "output_type": "stream",
     "text": [
      "Segmentation Models: using `keras` framework.\n"
     ]
    }
   ],
   "source": [
    "import segmentation_models as sm"
   ]
  },
  {
   "cell_type": "code",
   "execution_count": 13,
   "metadata": {
    "id": "qZe0H6_7n1lr"
   },
   "outputs": [],
   "source": [
    "# function to covert Run-Length-Encoded Values to masks\n",
    "# reference: https://www.kaggle.com/paulorzp/rle-functions-run-lenght-encode-decode\n",
    "\n",
    "def rle2mask(mask_rle, shape=(1600,256)):\n",
    "\n",
    "    s = mask_rle.split()\n",
    "    starts, lengths = [np.asarray(x, dtype=int) for x in (s[0:][::2], s[1:][::2])]\n",
    "    starts -= 1\n",
    "    ends = starts + lengths\n",
    "    img = np.zeros(shape[0]*shape[1], dtype=np.uint8)\n",
    "    for lo, hi in zip(starts, ends):\n",
    "        img[lo:hi] = 1\n",
    "    return img.reshape(shape).T\n",
    "\n",
    "# Reference: https://datascience.stackexchange.com/questions/45165/how-to-get-accuracy-f1-precision-and-recall-for-a-keras-model\n",
    "\n",
    "def recall(y_true, y_pred):\n",
    "    true_positives = K.sum(K.round(K.clip(y_true * y_pred, 0, 1)))\n",
    "    possible_positives = K.sum(K.round(K.clip(y_true, 0, 1)))\n",
    "    recall = true_positives / (possible_positives + K.epsilon())\n",
    "    return recall\n",
    "\n",
    "def precision(y_true, y_pred):\n",
    "    true_positives = K.sum(K.round(K.clip(y_true * y_pred, 0, 1)))\n",
    "    predicted_positives = K.sum(K.round(K.clip(y_pred, 0, 1)))\n",
    "    precision = true_positives / (predicted_positives + K.epsilon())\n",
    "    return precision\n",
    "\n",
    "def f1_score(y_true, y_pred):\n",
    "    precision_1 = precision(y_true, y_pred)\n",
    "    recall_1 = recall(y_true, y_pred)\n",
    "    return 2*((precision_1*recall_1)/(precision_1+recall_1+K.epsilon()))\n",
    "\n",
    "# Reference : https://stackoverflow.com/questions/59054564/dice-coefficient-above-1\n",
    "\n",
    "def dice_coefficient(y_true, y_pred):\n",
    "    \n",
    "    y = K.flatten(y_true)\n",
    "    y_predicted = K.flatten(y_pred)\n",
    "    intersection = K.sum(y * y_predicted)\n",
    "    \n",
    "    return (2 * intersection + K.epsilon()) / (K.sum(y) + K.sum(y_predicted) + K.epsilon())\n",
    "\n",
    "# reference: https://www.kaggle.com/stainsby/fast-tested-rle\n",
    "\n",
    "def rle_encode(img):\n",
    "    \n",
    "    pixels = img.flatten()\n",
    "    pixels = np.concatenate([[0], pixels, [0]])\n",
    "    runs = np.where(pixels[1:] != pixels[:-1])[0] + 1\n",
    "    runs[1::2] -= runs[::2]\n",
    "    \n",
    "    return ' '.join(str(x) for x in runs)"
   ]
  },
  {
   "cell_type": "code",
   "execution_count": 46,
   "metadata": {
    "id": "XyYDuVNBgRpZ"
   },
   "outputs": [],
   "source": [
    "def final_fun_1(X):\n",
    "    \n",
    "    root_path_test = '/content/drive/MyDrive/Case_Study_2/test_images/'\n",
    "\n",
    "    # Loading All Best Models\n",
    "\n",
    "    Best_Model_Binary = load_model('/content/drive/My Drive/Case_Study_2/Binary_models/Binary_model_Xception.h5',custom_objects = {'recall':recall,'precision':precision,'f1_score':f1_score})\n",
    "    Best_Model_Binary.compile(optimizer='adam', loss='binary_crossentropy',metrics=['accuracy',precision,recall,f1_score])\n",
    "\n",
    "    Best_Model_Multi_Label = load_model('/content/drive/My Drive/Case_Study_2/Multi_Label_models/Multi_Label_model_InceptionResNetV2.h5',custom_objects = {'recall':recall,'precision':precision,'f1_score':f1_score})\n",
    "    Best_Model_Multi_Label.compile(optimizer='adam', loss='binary_crossentropy',metrics=['accuracy',precision,recall,f1_score])\n",
    "\n",
    "    Best_Model_Segmentaion_C1 = load_model('/content/drive/MyDrive/Case_Study_2/Segmentation_models/Class1.h5',custom_objects = {'dice_coefficient':dice_coefficient,'dice_loss':sm.losses.dice_loss})\n",
    "    Best_Model_Segmentaion_C1.compile(optimizer='adam', loss = sm.losses.dice_loss, metrics=[dice_coefficient])\n",
    "\n",
    "    Best_Model_Segmentaion_C2 = load_model('/content/drive/MyDrive/Case_Study_2/Segmentation_models/Class2.h5',custom_objects = {'dice_coefficient':dice_coefficient,'dice_loss':sm.losses.dice_loss})\n",
    "    Best_Model_Segmentaion_C2.compile(optimizer='adam', loss = sm.losses.dice_loss, metrics=[dice_coefficient])\n",
    "\n",
    "    Best_Model_Segmentaion_C3 = load_model('/content/drive/MyDrive/Case_Study_2/Segmentation_models/Class3.h5',custom_objects = {'dice_coefficient':dice_coefficient,'dice_loss':sm.losses.dice_loss})\n",
    "    Best_Model_Segmentaion_C3.compile(optimizer='adam', loss = sm.losses.dice_loss, metrics=[dice_coefficient])\n",
    "\n",
    "    Best_Model_Segmentaion_C4 = load_model('/content/drive/MyDrive/Case_Study_2/Segmentation_models/Class4.h5',custom_objects = {'dice_coefficient':dice_coefficient,'dice_loss':sm.losses.dice_loss})\n",
    "    Best_Model_Segmentaion_C4.compile(optimizer='adam', loss = sm.losses.dice_loss, metrics=[dice_coefficient])\n",
    "\n",
    "    \n",
    "    for i in list(X.index):\n",
    "      \n",
    "      plt.figure(figsize=(21,5))\n",
    "      \n",
    "      # Binary & Multi Label model\n",
    "      \n",
    "      image = cv2.imread(root_path_test + X['Id'][i], cv2.IMREAD_UNCHANGED)\n",
    "      image = cv2.resize(image, (299,299), interpolation=cv2.INTER_NEAREST)\n",
    "      image = (1/255.)*image\n",
    "\n",
    "      if Best_Model_Binary.predict(image[np.newaxis,:,:,:])[0][0] > 0.9:\n",
    "        class_probs = Best_Model_Multi_Label.predict(image[np.newaxis,:,:,:])[0]\n",
    "        image = cv2.imread(root_path_test + X['Id'][i], cv2.IMREAD_UNCHANGED)\n",
    "        image = cv2.resize(image, (256,800), interpolation=cv2.INTER_NEAREST)\n",
    "        image = (1/255.)*image\n",
    "        \n",
    "        \n",
    "        if class_probs[0] > 0.5:\n",
    "          predicted  = Best_Model_Segmentaion_C1.predict(image[np.newaxis,:,:,:])\n",
    "          predicted = predicted[0,:,:,0]\n",
    "          predicted = predicted.T\n",
    "\n",
    "          plt.subplot(141)\n",
    "          plt.imshow(predicted)\n",
    "          plt.title(\"Predicted Mask For Class_1\" + \" ID \" + str(i) + ':')\n",
    "          plt.show()\n",
    "        \n",
    "        if class_probs[1] > 0.5:\n",
    "          predicted  = Best_Model_Segmentaion_C2.predict(image[np.newaxis,:,:,:])\n",
    "          predicted = predicted[0,:,:,0]\n",
    "          predicted = predicted.T\n",
    "               \n",
    "          plt.subplot(142)\n",
    "          plt.imshow(predicted)\n",
    "          plt.title(\"Predicted Mask For Class_2\" + \" ID \" + str(i) + ':')\n",
    "          plt.show()\n",
    "        \n",
    "        if class_probs[2] > 0.5:\n",
    "          predicted  = Best_Model_Segmentaion_C3.predict(image[np.newaxis,:,:,:])\n",
    "          predicted = predicted[0,:,:,0]\n",
    "          predicted = predicted.T\n",
    "          \n",
    "          plt.subplot(143)\n",
    "          plt.imshow(predicted)\n",
    "          plt.title(\"Predicted Mask For Class_3\" + \" ID \" + str(i) + ':')\n",
    "          plt.show()\n",
    "        \n",
    "        if class_probs[3] > 0.5:\n",
    "          predicted  = Best_Model_Segmentaion_C4.predict(image[np.newaxis,:,:,:])\n",
    "          predicted = predicted[0,:,:,0]\n",
    "          predicted = predicted.T\n",
    "          \n",
    "          plt.subplot(144)\n",
    "          plt.imshow(predicted)\n",
    "          plt.title(\"Predicted Mask For Class_4\" + \" ID \" + str(i) + ':')\n",
    "          plt.show()\n",
    "        \n",
    "        elif (class_probs[0]<=0.5) and (class_probs[1]<=0.5) and (class_probs[2]<=0.5) and (class_probs[3]<=0.5):\n",
    "          class_ = np.argmax(class_probs) + 1\n",
    "\n",
    "          if class_ == 1:\n",
    "            predicted  = Best_Model_Segmentaion_C1.predict(image[np.newaxis,:,:,:])\n",
    "            predicted = predicted[0,:,:,0]\n",
    "            predicted = predicted.T\n",
    "            \n",
    "            plt.subplot(141)\n",
    "            plt.imshow(predicted)\n",
    "            plt.title(\"Predicted Mask For Class_1\" + \" ID \" + str(i) + ':')\n",
    "            plt.show() \n",
    "          \n",
    "          elif class_==2:\n",
    "            predicted  = Best_Model_Segmentaion_C2.predict(image[np.newaxis,:,:,:])\n",
    "            predicted = predicted[0,:,:,0]\n",
    "            predicted = predicted.T\n",
    "            \n",
    "            plt.subplot(142)\n",
    "            plt.imshow(predicted)\n",
    "            plt.title(\"Predicted Mask For Class_2\" + \" ID \" + str(i) + ':')\n",
    "            plt.show() \n",
    "          \n",
    "          elif class_==3:\n",
    "            predicted  = Best_Model_Segmentaion_C3.predict(image[np.newaxis,:,:,:])\n",
    "            predicted = predicted[0,:,:,0]\n",
    "            predicted = predicted.T\n",
    "            \n",
    "            plt.subplot(143)\n",
    "            plt.imshow(predicted)\n",
    "            plt.title(\"Predicted Mask For Class_3\" + \" ID \" + str(i) + ':')\n",
    "            plt.show() \n",
    "          \n",
    "          elif class_==4:\n",
    "            predicted  = Best_Model_Segmentaion_C4.predict(image[np.newaxis,:,:,:])\n",
    "            predicted = predicted[0,:,:,0]\n",
    "            predicted = predicted.T\n",
    "            \n",
    "            plt.subplot(144)\n",
    "            plt.imshow(predicted)\n",
    "            plt.title(\"Predicted Mask For Class_4\" + \" ID \" + str(i) + ':')\n",
    "            plt.show() \n",
    "        \n",
    "      else:\n",
    "        print(\"ID \" + str(i) + ':' + ' The Given image Have No Defect')\n",
    "    "
   ]
  },
  {
   "cell_type": "markdown",
   "metadata": {
    "id": "2LWOqnu5gRpa"
   },
   "source": [
    "## PREDICTIONS ON A SAMPLE TEST DATA ( SINGLE OR MULTI INPUT ):"
   ]
  },
  {
   "cell_type": "code",
   "execution_count": 15,
   "metadata": {
    "colab": {
     "base_uri": "https://localhost:8080/",
     "height": 343
    },
    "id": "1YIHCSPzgRpa",
    "outputId": "a1d8e57c-c0cc-47cb-bd19-631740f7ad96"
   },
   "outputs": [
    {
     "data": {
      "text/html": [
       "<div>\n",
       "<style scoped>\n",
       "    .dataframe tbody tr th:only-of-type {\n",
       "        vertical-align: middle;\n",
       "    }\n",
       "\n",
       "    .dataframe tbody tr th {\n",
       "        vertical-align: top;\n",
       "    }\n",
       "\n",
       "    .dataframe thead th {\n",
       "        text-align: right;\n",
       "    }\n",
       "</style>\n",
       "<table border=\"1\" class=\"dataframe\">\n",
       "  <thead>\n",
       "    <tr style=\"text-align: right;\">\n",
       "      <th></th>\n",
       "      <th>Id</th>\n",
       "    </tr>\n",
       "  </thead>\n",
       "  <tbody>\n",
       "    <tr>\n",
       "      <th>0</th>\n",
       "      <td>db72ffc2e.jpg</td>\n",
       "    </tr>\n",
       "    <tr>\n",
       "      <th>1</th>\n",
       "      <td>d221d2a3f.jpg</td>\n",
       "    </tr>\n",
       "    <tr>\n",
       "      <th>2</th>\n",
       "      <td>d20453181.jpg</td>\n",
       "    </tr>\n",
       "    <tr>\n",
       "      <th>3</th>\n",
       "      <td>d670249ed.jpg</td>\n",
       "    </tr>\n",
       "    <tr>\n",
       "      <th>4</th>\n",
       "      <td>d5e8bbe9a.jpg</td>\n",
       "    </tr>\n",
       "    <tr>\n",
       "      <th>5</th>\n",
       "      <td>d8451253a.jpg</td>\n",
       "    </tr>\n",
       "    <tr>\n",
       "      <th>6</th>\n",
       "      <td>d7cc00da8.jpg</td>\n",
       "    </tr>\n",
       "    <tr>\n",
       "      <th>7</th>\n",
       "      <td>d72ec3680.jpg</td>\n",
       "    </tr>\n",
       "    <tr>\n",
       "      <th>8</th>\n",
       "      <td>d2033d01e.jpg</td>\n",
       "    </tr>\n",
       "    <tr>\n",
       "      <th>9</th>\n",
       "      <td>d118e5d28.jpg</td>\n",
       "    </tr>\n",
       "  </tbody>\n",
       "</table>\n",
       "</div>"
      ],
      "text/plain": [
       "              Id\n",
       "0  db72ffc2e.jpg\n",
       "1  d221d2a3f.jpg\n",
       "2  d20453181.jpg\n",
       "3  d670249ed.jpg\n",
       "4  d5e8bbe9a.jpg\n",
       "5  d8451253a.jpg\n",
       "6  d7cc00da8.jpg\n",
       "7  d72ec3680.jpg\n",
       "8  d2033d01e.jpg\n",
       "9  d118e5d28.jpg"
      ]
     },
     "execution_count": 15,
     "metadata": {
      "tags": []
     },
     "output_type": "execute_result"
    }
   ],
   "source": [
    "root_path_test = '/content/drive/MyDrive/Case_Study_2/test_images/'\n",
    "Test_image_names = []\n",
    "for i in os.listdir(root_path_test):\n",
    "    Test_image_names.append(i)\n",
    "\n",
    "test_df = pd.DataFrame(Test_image_names,columns=['Id'])\n",
    "test_df.head(10)"
   ]
  },
  {
   "cell_type": "code",
   "execution_count": 43,
   "metadata": {
    "colab": {
     "base_uri": "https://localhost:8080/"
    },
    "id": "F6z0OgNdgRpc",
    "outputId": "1c180207-c19a-460c-f700-f3c426c3f946"
   },
   "outputs": [
    {
     "name": "stdout",
     "output_type": "stream",
     "text": [
      "NUMBER OF THE DATAPOINTS TO BE PREDICTED: 8\n",
      "Enter the ids of the8 data points\n",
      "44\n",
      "3\n",
      "420\n",
      "800\n",
      "1658\n",
      "2999\n",
      "300\n",
      "250\n",
      "[44, 3, 420, 800, 1658, 2999, 300, 250]\n"
     ]
    }
   ],
   "source": [
    "# reference : https://www.geeksforgeeks.org/python-get-a-list-as-input-from-user/\n",
    "\n",
    "lst = [] \n",
    "n = int(input(\"NUMBER OF THE DATAPOINTS TO BE PREDICTED: \")) \n",
    "if n >1: \n",
    "    print(\"Enter the ids of the\" + str(n)+' data points')\n",
    "else:\n",
    "    print(\"Enter the id of the point\")\n",
    "for i in range(0, n): \n",
    "    ele = int(input())\n",
    "    lst.append(ele) \n",
    "      \n",
    "print(lst) "
   ]
  },
  {
   "cell_type": "code",
   "execution_count": 44,
   "metadata": {
    "colab": {
     "base_uri": "https://localhost:8080/",
     "height": 284
    },
    "id": "HZOh6dDSgRpc",
    "outputId": "fdec43c3-00d7-4749-dda2-21af6dfd5084"
   },
   "outputs": [
    {
     "data": {
      "text/html": [
       "<div>\n",
       "<style scoped>\n",
       "    .dataframe tbody tr th:only-of-type {\n",
       "        vertical-align: middle;\n",
       "    }\n",
       "\n",
       "    .dataframe tbody tr th {\n",
       "        vertical-align: top;\n",
       "    }\n",
       "\n",
       "    .dataframe thead th {\n",
       "        text-align: right;\n",
       "    }\n",
       "</style>\n",
       "<table border=\"1\" class=\"dataframe\">\n",
       "  <thead>\n",
       "    <tr style=\"text-align: right;\">\n",
       "      <th></th>\n",
       "      <th>Id</th>\n",
       "    </tr>\n",
       "  </thead>\n",
       "  <tbody>\n",
       "    <tr>\n",
       "      <th>44</th>\n",
       "      <td>d5bbdc8a8.jpg</td>\n",
       "    </tr>\n",
       "    <tr>\n",
       "      <th>3</th>\n",
       "      <td>d670249ed.jpg</td>\n",
       "    </tr>\n",
       "    <tr>\n",
       "      <th>420</th>\n",
       "      <td>df62d5dac.jpg</td>\n",
       "    </tr>\n",
       "    <tr>\n",
       "      <th>800</th>\n",
       "      <td>fb6e8874b.jpg</td>\n",
       "    </tr>\n",
       "    <tr>\n",
       "      <th>1658</th>\n",
       "      <td>c4987c901.jpg</td>\n",
       "    </tr>\n",
       "    <tr>\n",
       "      <th>2999</th>\n",
       "      <td>99ac0a458.jpg</td>\n",
       "    </tr>\n",
       "    <tr>\n",
       "      <th>300</th>\n",
       "      <td>e0a5a7636.jpg</td>\n",
       "    </tr>\n",
       "    <tr>\n",
       "      <th>250</th>\n",
       "      <td>dcdfc29b2.jpg</td>\n",
       "    </tr>\n",
       "  </tbody>\n",
       "</table>\n",
       "</div>"
      ],
      "text/plain": [
       "                 Id\n",
       "44    d5bbdc8a8.jpg\n",
       "3     d670249ed.jpg\n",
       "420   df62d5dac.jpg\n",
       "800   fb6e8874b.jpg\n",
       "1658  c4987c901.jpg\n",
       "2999  99ac0a458.jpg\n",
       "300   e0a5a7636.jpg\n",
       "250   dcdfc29b2.jpg"
      ]
     },
     "execution_count": 44,
     "metadata": {
      "tags": []
     },
     "output_type": "execute_result"
    }
   ],
   "source": [
    "X_test =test_df.loc[lst]\n",
    "X_test"
   ]
  },
  {
   "cell_type": "code",
   "execution_count": 47,
   "metadata": {
    "colab": {
     "base_uri": "https://localhost:8080/",
     "height": 758
    },
    "id": "jkfWhDUAgRpd",
    "outputId": "bb6525bb-1b89-4f51-db2c-70c69a82cbd5"
   },
   "outputs": [
    {
     "data": {
      "image/png": "[encoded data removed]",
      "text/plain": [
       "<Figure size 1512x360 with 1 Axes>"
      ]
     },
     "metadata": {
      "needs_background": "light",
      "tags": []
     },
     "output_type": "display_data"
    },
    {
     "data": {
      "image/png": "[encoded data removed]",
      "text/plain": [
       "<Figure size 1512x360 with 1 Axes>"
      ]
     },
     "metadata": {
      "needs_background": "light",
      "tags": []
     },
     "output_type": "display_data"
    },
    {
     "data": {
      "image/png": "[encoded data removed]",
      "text/plain": [
       "<Figure size 1512x360 with 1 Axes>"
      ]
     },
     "metadata": {
      "needs_background": "light",
      "tags": []
     },
     "output_type": "display_data"
    },
    {
     "data": {
      "image/png": "[encoded data removed]",
      "text/plain": [
       "<Figure size 1512x360 with 1 Axes>"
      ]
     },
     "metadata": {
      "needs_background": "light",
      "tags": []
     },
     "output_type": "display_data"
    },
    {
     "name": "stdout",
     "output_type": "stream",
     "text": [
      "ID 1658: The Given image Have No Defect\n"
     ]
    },
    {
     "data": {
      "text/plain": [
       "<Figure size 1512x360 with 0 Axes>"
      ]
     },
     "metadata": {
      "tags": []
     },
     "output_type": "display_data"
    },
    {
     "data": {
      "image/png": "[encoded data removed]",
      "text/plain": [
       "<Figure size 1512x360 with 1 Axes>"
      ]
     },
     "metadata": {
      "needs_background": "light",
      "tags": []
     },
     "output_type": "display_data"
    },
    {
     "name": "stdout",
     "output_type": "stream",
     "text": [
      "ID 300: The Given image Have No Defect\n",
      "ID 250: The Given image Have No Defect\n"
     ]
    },
    {
     "data": {
      "text/plain": [
       "<Figure size 1512x360 with 0 Axes>"
      ]
     },
     "metadata": {
      "tags": []
     },
     "output_type": "display_data"
    },
    {
     "data": {
      "text/plain": [
       "<Figure size 1512x360 with 0 Axes>"
      ]
     },
     "metadata": {
      "tags": []
     },
     "output_type": "display_data"
    }
   ],
   "source": [
    "final_fun_1(X_test)"
   ]
  },
  {
   "cell_type": "code",
   "execution_count": null,
   "metadata": {
    "id": "q2lG7h_2gRpd"
   },
   "outputs": [],
   "source": []
  }
 ],
 "metadata": {
  "colab": {
   "collapsed_sections": [],
   "name": "Final.ipynb",
   "provenance": []
  },
  "kernelspec": {
   "display_name": "Python 3",
   "language": "python",
   "name": "python3"
  },
  "language_info": {
   "codemirror_mode": {
    "name": "ipython",
    "version": 3
   },
   "file_extension": ".py",
   "mimetype": "text/x-python",
   "name": "python",
   "nbconvert_exporter": "python",
   "pygments_lexer": "ipython3",
   "version": "3.7.9"
  }
 },
 "nbformat": 4,
 "nbformat_minor": 1
}
